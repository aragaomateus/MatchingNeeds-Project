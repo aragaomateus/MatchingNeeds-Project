{
 "cells": [
  {
   "cell_type": "code",
   "execution_count": 2,
   "metadata": {},
   "outputs": [
    {
     "name": "stdout",
     "output_type": "stream",
     "text": [
      "already dropped\n",
      "schema: information_schema\n",
      "schema: morse_coders\n",
      "courses\n",
      "defense_df\n",
      "goalkeep_df\n",
      "joint_player_data_salaries\n",
      "offense_df\n",
      "players_df\n",
      "players_salaries_df\n",
      "salary_goal_df\n",
      "security_questions\n",
      "users\n",
      "(1, 'abc1234')\n",
      "(12, 'abc2345')\n",
      "(3, 'def2345')\n",
      "(13, 'def3456')\n",
      "(4, 'ghi3456')\n",
      "(14, 'ghi4567')\n",
      "(5, 'jkl4567')\n",
      "(15, 'jkl5678')\n",
      "(6, 'mno5678')\n",
      "(16, 'mno6789')\n",
      "(20, 'msa8779')\n",
      "(7, 'pqr6789')\n",
      "(17, 'pqr7890')\n",
      "(8, 'stu7890')\n",
      "(18, 'stu8901')\n",
      "(9, 'vwx8901')\n",
      "(19, 'vwx9012')\n",
      "(10, 'wxy9012')\n",
      "(11, 'yz0123')\n"
     ]
    }
   ],
   "source": [
    "import json\n",
    "import pandas as pd\n",
    "from sqlalchemy import create_engine, MetaData, Table, Column, Integer, JSON\n",
    "from sqlalchemy import event\n",
    "from sqlalchemy import inspect\n",
    "\n",
    "with open('user_data.json', 'r') as f:\n",
    "        user_data = json.load(f)\n",
    "        \n",
    "conn_string = 'mysql+pymysql://{user}:{password}@{host}:{port}/{db}?charset={encoding}'.format(\n",
    "    user='morse_coders', \n",
    "    password='/TCcKNCzR2k=', \n",
    "    host = 'jsedocc7.scrc.nyu.edu', \n",
    "    port     = 3306, \n",
    "    encoding = 'utf8',\n",
    "    db = 'morse_coders'\n",
    ")\n",
    "engine = create_engine(conn_string)\n",
    "\n",
    "\"\"\"\n",
    "Functions for the back end with the professors database\n",
    "\"\"\"\n",
    "\n",
    "# Function sho_tables for showing all the tables in the database \n",
    "def show_tables(engine):\n",
    "        inspector = inspect(engine)\n",
    "        schemas = inspector.get_schema_names()\n",
    "        for schema in schemas:\n",
    "                print(\"schema: %s\" % schema)\n",
    "                for table_name in inspector.get_table_names(schema=schema):\n",
    "                        print(table_name)\n",
    "                        \n",
    "                        \n",
    "\"\"\"\n",
    "_______________________\n",
    "\"\"\"\n",
    "\n",
    "try:    \n",
    "        metadata = MetaData()\n",
    "        table_name = Table('inspections_3', metadata, autoload=True, autoload_with=engine)\n",
    "\n",
    "        table_name.drop(engine)\n",
    "except: \n",
    "        print('already dropped')\n",
    "\n",
    "show_tables(engine)\n",
    "\n",
    "# print(user_data)\n",
    "with engine.connect() as conn:\n",
    "    results = conn.execute(\"SELECT * FROM users\").fetchall()\n",
    "    for row in results:\n",
    "        print(row)"
   ]
  },
  {
   "cell_type": "code",
   "execution_count": 10,
   "metadata": {},
   "outputs": [],
   "source": [
    "query = '''\n",
    "SELECT * FROM feedback\n",
    "'''\n",
    "table = pd.read_sql(query, con=engine)"
   ]
  },
  {
   "cell_type": "code",
   "execution_count": 11,
   "metadata": {},
   "outputs": [
    {
     "data": {
      "text/html": [
       "<div>\n",
       "<style scoped>\n",
       "    .dataframe tbody tr th:only-of-type {\n",
       "        vertical-align: middle;\n",
       "    }\n",
       "\n",
       "    .dataframe tbody tr th {\n",
       "        vertical-align: top;\n",
       "    }\n",
       "\n",
       "    .dataframe thead th {\n",
       "        text-align: right;\n",
       "    }\n",
       "</style>\n",
       "<table border=\"1\" class=\"dataframe\">\n",
       "  <thead>\n",
       "    <tr style=\"text-align: right;\">\n",
       "      <th></th>\n",
       "      <th>id</th>\n",
       "      <th>feedback</th>\n",
       "      <th>timestamp</th>\n",
       "    </tr>\n",
       "  </thead>\n",
       "  <tbody>\n",
       "    <tr>\n",
       "      <th>0</th>\n",
       "      <td>1</td>\n",
       "      <td>This is great</td>\n",
       "      <td>2023-04-11 17:00:17</td>\n",
       "    </tr>\n",
       "    <tr>\n",
       "      <th>1</th>\n",
       "      <td>2</td>\n",
       "      <td>This is great too</td>\n",
       "      <td>2023-04-11 17:04:49</td>\n",
       "    </tr>\n",
       "    <tr>\n",
       "      <th>2</th>\n",
       "      <td>3</td>\n",
       "      <td>another feedback</td>\n",
       "      <td>2023-04-11 17:06:05</td>\n",
       "    </tr>\n",
       "  </tbody>\n",
       "</table>\n",
       "</div>"
      ],
      "text/plain": [
       "   id           feedback           timestamp\n",
       "0   1      This is great 2023-04-11 17:00:17\n",
       "1   2  This is great too 2023-04-11 17:04:49\n",
       "2   3   another feedback 2023-04-11 17:06:05"
      ]
     },
     "execution_count": 11,
     "metadata": {},
     "output_type": "execute_result"
    }
   ],
   "source": [
    "table.head()"
   ]
  },
  {
   "cell_type": "code",
   "execution_count": null,
   "metadata": {},
   "outputs": [],
   "source": []
  }
 ],
 "metadata": {
  "kernelspec": {
   "display_name": "Python 3",
   "language": "python",
   "name": "python3"
  },
  "language_info": {
   "codemirror_mode": {
    "name": "ipython",
    "version": 3
   },
   "file_extension": ".py",
   "mimetype": "text/x-python",
   "name": "python",
   "nbconvert_exporter": "python",
   "pygments_lexer": "ipython3",
   "version": "3.8.5"
  },
  "orig_nbformat": 4
 },
 "nbformat": 4,
 "nbformat_minor": 2
}
